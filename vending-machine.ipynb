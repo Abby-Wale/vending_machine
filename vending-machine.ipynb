{
 "cells": [
  {
   "cell_type": "markdown",
   "metadata": {
    "id": "5LAey9ytQMZL"
   },
   "source": [
    "# vending-machine\n",
    "\n",
    "Use the \"Run\" button to execute the code."
   ]
  },
  {
   "cell_type": "code",
   "execution_count": null,
   "metadata": {
    "id": "aeoLDdsdQWXf"
   },
   "outputs": [],
   "source": [
    "# importing libraries\n",
    "import numpy as np\n",
    "from datetime import date\n",
    "import pandas as pd"
   ]
  },
  {
   "cell_type": "markdown",
   "metadata": {
    "id": "tDNTrFBKQqV5"
   },
   "source": [
    "\n",
    "the user sees the menu as the machine initializes.\n",
    "thereafter, the inserted coin determines what is\n",
    "displayed on menu. at every stage of transaction, \n",
    "the machine displays only what the user change can afford.\n"
   ]
  },
  {
   "cell_type": "code",
   "execution_count": null,
   "metadata": {
    "id": "VVX6puy2Q9hU"
   },
   "outputs": [],
   "source": [
    "# creating dictionary for items list\n",
    "\n",
    "items_prices = {\n",
    "    'Slim Bar': 5,\n",
    "    'Far Bar': 10,\n",
    "    'Mar Bar': 20,\n",
    "    'Twin Bar': 50\n",
    "}\n"
   ]
  },
  {
   "cell_type": "code",
   "execution_count": null,
   "metadata": {
    "id": "4AtsIGsJQMZS"
   },
   "outputs": [],
   "source": [
    "# creating a class that runs the vending machine main engine\n",
    "\n",
    "class VendingMachine:\n",
    "    cart = []\n",
    "    INSERTED_COIN = 0\n",
    "    new_balance = 0\n",
    "\n",
    "    def __init__(self):\n",
    "        \"\"\"\n",
    "        the constructor displays the menu when the vending machine\n",
    "        is initialized\n",
    "        \"\"\"\n",
    "        product_df = pd.DataFrame(list(items_prices.items()), columns=['Products', 'Prices'])\n",
    "        product_df.index += 1\n",
    "        print('*********MENU*********')\n",
    "        print(f'{product_df}\\n')\n",
    "\n",
    "    @staticmethod\n",
    "    def insert_coin():\n",
    "        \"\"\"this static method prompts the user to insert a coin\"\"\"\n",
    "        coins = [5, 10, 20, 50]\n",
    "        while True:\n",
    "            try:\n",
    "                print('coins(pence) accepted are 5, 10, 20 & 50')\n",
    "                coin = int(input('Insert coin here >>>  '))\n",
    "                if coin in coins:\n",
    "                    print(f'You have {coin}p in your account.')\n",
    "                    VendingMachine.INSERTED_COIN += coin\n",
    "                    # new_balance is initialized to the value of inserted coin.\n",
    "                    # INSERTED_COIN is a constant while new_balance decreases after each purchase.\n",
    "                    VendingMachine.new_balance += coin\n",
    "                    break\n",
    "                else:\n",
    "                    raise ValueError\n",
    "            except ValueError:\n",
    "                print('Oops! that was an invalid coin')\n",
    "\n",
    "    def menu_list(self):\n",
    "        \"\"\" this method removes any item that the cost is above the user's\n",
    "            inserted coin or change from the menu list \"\"\"\n",
    "        for key in list(items_prices.keys()):\n",
    "            if items_prices[key] > VendingMachine.new_balance:\n",
    "                del items_prices[key]\n",
    "        self.new_dic = items_prices\n",
    "        # pandas is used here to display my menu for a better outlook\n",
    "        product_df1 = pd.DataFrame(list(self.new_dic.items()), columns=['Products', 'Prices'])\n",
    "        product_df1.index += 1\n",
    "        print(product_df1)\n",
    "        print()\n",
    "\n",
    "    @staticmethod\n",
    "    def numbers_():\n",
    "        \"\"\"\n",
    "            this method returns the number/numbers that helps\n",
    "            to control display menu, base on the user's\n",
    "            inserted coin/change\n",
    "        \"\"\"\n",
    "        numbers = []\n",
    "        if 0 < VendingMachine.new_balance < 10:\n",
    "            numbers += [1]\n",
    "        elif 0 < VendingMachine.new_balance < 20:\n",
    "            numbers += [1, 2]\n",
    "        elif 0 < VendingMachine.new_balance < 35:\n",
    "            numbers += [1, 2, 3]\n",
    "        elif VendingMachine.new_balance > 0 and VendingMachine.INSERTED_COIN > 45:\n",
    "            numbers += [1, 2, 3, 4]\n",
    "        return numbers\n",
    "\n",
    "    def select_choc(self):\n",
    "        \"\"\"\n",
    "        the method request the user to input\n",
    "        his/her choice item's serial number\n",
    "        \"\"\"\n",
    "        while True:\n",
    "            try:\n",
    "                self.item_no = int(input('\\nPlease, input item number >>>  '))\n",
    "                if self.item_no in VendingMachine.numbers_():\n",
    "                    self.idx = self.item_no - 1\n",
    "                    self.each_cost = list(self.new_dic.values())[self.idx]\n",
    "                    return self.each_cost\n",
    "                else:\n",
    "                    print('Oops! that was out of range')\n",
    "            except ValueError:\n",
    "                print(\"Oops! That was a wrong value\")\n",
    "\n",
    "    def quantity(self):\n",
    "        \"\"\"this method prompts the user to input item quantity \"\"\"\n",
    "        while True:\n",
    "            try:\n",
    "                self.item_qty = int(input('Please, select item quantity >>> '))\n",
    "                self.qty_cost = self.item_qty * self.each_cost\n",
    "                if self.qty_cost <= VendingMachine.new_balance:\n",
    "                    VendingMachine.new_balance -= self.qty_cost\n",
    "                    ret = list(items_prices.keys())[self.idx]\n",
    "                    qty_of_items = self.item_qty * [ret]\n",
    "                    VendingMachine.cart.append(qty_of_items)\n",
    "                    print(f'You have added {self.item_qty} \\'{ret}\\' to your cart')\n",
    "                    break\n",
    "                else:\n",
    "                    print(f'Your selection cost {self.qty_cost}p')\n",
    "                    print(f'You have {VendingMachine.new_balance}p in your account')\n",
    "                    print('Try again')\n",
    "            except ValueError:\n",
    "                print(\"invalid input\")\n",
    "\n",
    "    @staticmethod\n",
    "    def date():\n",
    "        \"\"\"\n",
    "        this method is used to print transaction\n",
    "        date on the user's receipt\n",
    "        \"\"\"\n",
    "        today = date.today()\n",
    "        print(f'   {today.strftime(\"%b-%d-%Y\")}')\n",
    "\n",
    "\n",
    "\n"
   ]
  },
  {
   "cell_type": "code",
   "execution_count": null,
   "metadata": {
    "id": "-0u7l49nRk3f"
   },
   "outputs": [],
   "source": [
    "# defines function that runs the machine\n",
    "\n",
    "def vend():\n",
    "    \"\"\"\n",
    "    this function runs the vending machine\n",
    "    \"\"\"\n",
    "    print('University of Suffolk Vending Machine')\n",
    "    vm = VendingMachine()\n",
    "    vm.insert_coin()\n",
    "    keep_buying = True\n",
    "    to_cancel = ['y', 'n']\n",
    "    while True:\n",
    "        try:\n",
    "            # the cancel variable gives the user an option to take back his/her coin if\n",
    "            # he/she decides against the transaction\n",
    "            cancel = input('\\nPress \"y\" to cancel transaction\\nPress \"n\" to continue >>> ').lower()\n",
    "            if cancel in to_cancel:\n",
    "                if cancel == 'y':\n",
    "                    print(f'{VendingMachine.INSERTED_COIN}p refunded!')\n",
    "                    print('Bye!')\n",
    "                    keep_buying = False\n",
    "                    break\n",
    "                else:\n",
    "                    break\n",
    "            else:\n",
    "                raise ValueError\n",
    "        except ValueError:\n",
    "            print('invalid selection')\n",
    "    print()\n",
    "    while keep_buying:\n",
    "        if VendingMachine.new_balance == 0:\n",
    "            print()\n",
    "            print('*******RECEIPT*******')\n",
    "            vm.date()\n",
    "            # the list comprehension flattened a list of list to a single a list\n",
    "            new_cart = [item for sublist in VendingMachine.cart for item in sublist]\n",
    "            # numpy is used to unpack the list\n",
    "            cart = dict(zip(*np.unique(new_cart, return_counts=True)))\n",
    "            cart_df = pd.DataFrame(list(cart.items()), columns=['Products', 'Qty'])\n",
    "            cart_df.index += 1\n",
    "            print(f'\\n{cart_df}')\n",
    "            print('See you again!')\n",
    "            print(20 * '*')\n",
    "            keep_buying = False\n",
    "        else:\n",
    "            print()\n",
    "            vm.menu_list()\n",
    "            to_cancel = ['y', 'n']\n",
    "            while True:\n",
    "                try:\n",
    "                    # cancel variable here allows the user to end or keep adding to the cart\n",
    "                    # so long as his/her coin could still afford it\n",
    "                    cancel = input('Press \"y\" to add an item to cart\\nPress \"n\" to end transaction >>> ').lower()\n",
    "                    if cancel in to_cancel:\n",
    "                        if cancel == 'n':\n",
    "                            if VendingMachine.new_balance == VendingMachine.INSERTED_COIN:\n",
    "                                print(f'{VendingMachine.INSERTED_COIN}p refunded.')\n",
    "                            elif VendingMachine.new_balance > 0:\n",
    "                                print()\n",
    "                                print('*******RECEIPT*******')\n",
    "                                vm.date()\n",
    "                                # the list comprehension flattened a list of list to a single a list\n",
    "                                new_cart = [item for sublist in VendingMachine.cart for item in sublist]\n",
    "                                # numpy is used to unpack the list\n",
    "                                cart = dict(zip(*np.unique(new_cart, return_counts=True)))\n",
    "                                cart_df = pd.DataFrame(list(cart.items()), columns=['Products', 'Qty'])\n",
    "                                cart_df.index += 1\n",
    "                                print(f'\\n{cart_df}')\n",
    "                                print(f'Your change is {VendingMachine.new_balance}p')\n",
    "                                print('Cheers!')\n",
    "                                print(20 * '*')\n",
    "                            keep_buying = False\n",
    "                            break\n",
    "                        elif cancel == 'y':\n",
    "                            vm.select_choc()\n",
    "                            vm.quantity()\n",
    "                            break\n",
    "                    else:\n",
    "                        raise ValueError\n",
    "                except ValueError:\n",
    "                    print('invalid character')\n",
    "\n",
    "\n",
    "\n",
    "\n"
   ]
  },
  {
   "cell_type": "code",
   "execution_count": null,
   "metadata": {
    "colab": {
     "base_uri": "https://localhost:8080/"
    },
    "executionInfo": {
     "elapsed": 14878,
     "status": "ok",
     "timestamp": 1683346654496,
     "user": {
      "displayName": "Abiola Adewale",
      "userId": "17827591252933066767"
     },
     "user_tz": -60
    },
    "id": "96cc5fKLRtQv",
    "outputId": "2b4d0de8-39c9-45db-904a-7ae01fc48afd"
   },
   "outputs": [
    {
     "name": "stdout",
     "output_type": "stream",
     "text": [
      "University of Suffolk Vending Machine\n",
      "*********MENU*********\n",
      "   Products  Prices\n",
      "1  Slim Bar       5\n",
      "2   Far Bar      10\n",
      "3   Mar Bar      20\n",
      "4  Twin Bar      50\n",
      "\n",
      "coins(pence) accepted are 5, 10, 20 & 50\n",
      "Insert coin here >>>  5\n",
      "You have 5p in your account.\n",
      "\n",
      "Press \"y\" to cancel transaction\n",
      "Press \"n\" to continue >>> y\n",
      "5p refunded!\n",
      "Bye!\n",
      "\n"
     ]
    }
   ],
   "source": [
    "vend()"
   ]
  },
  {
   "cell_type": "code",
   "execution_count": 10,
   "metadata": {
    "colab": {
     "base_uri": "https://localhost:8080/"
    },
    "executionInfo": {
     "elapsed": 627,
     "status": "ok",
     "timestamp": 1683347312110,
     "user": {
      "displayName": "Abiola Adewale",
      "userId": "17827591252933066767"
     },
     "user_tz": -60
    },
    "id": "gZ0yAZgaUQ5k",
    "outputId": "ce3eb582-0a7d-4b37-f03a-8e27ae5eede4"
   },
   "outputs": [
    {
     "name": "stdout",
     "output_type": "stream",
     "text": [
      "Reinitialized existing Git repository in /content/.git/\n"
     ]
    }
   ],
   "source": [
    "  !git init\n",
    "  !git config --global user.email \"abiola.aremuade@gmail.com\"\n",
    "  !git config --global user.name \"Abby-Wale\""
   ]
  },
  {
   "cell_type": "code",
   "execution_count": 13,
   "metadata": {
    "colab": {
     "base_uri": "https://localhost:8080/"
    },
    "executionInfo": {
     "elapsed": 316,
     "status": "ok",
     "timestamp": 1683347367083,
     "user": {
      "displayName": "Abiola Adewale",
      "userId": "17827591252933066767"
     },
     "user_tz": -60
    },
    "id": "FPju0yUyTn3-",
    "outputId": "6c073aaa-0964-411a-edde-da8ac92019a5"
   },
   "outputs": [
    {
     "name": "stdout",
     "output_type": "stream",
     "text": [
      "error: src refspec main does not match any\n",
      "\u001b[31merror: failed to push some refs to 'git@github.com:Abby-Wale/vending_machine.git'\n",
      "\u001b[m"
     ]
    }
   ],
   "source": [
    "\n",
    "\n",
    "\n",
    "!git push -u origin main"
   ]
  },
  {
   "cell_type": "code",
   "execution_count": null,
   "metadata": {
    "id": "LLRbLkK_T-Tm"
   },
   "outputs": [],
   "source": []
  }
 ],
 "metadata": {
  "colab": {
   "provenance": []
  },
  "kernelspec": {
   "display_name": "Python 3 (ipykernel)",
   "language": "python",
   "name": "python3"
  },
  "language_info": {
   "codemirror_mode": {
    "name": "ipython",
    "version": 3
   },
   "file_extension": ".py",
   "mimetype": "text/x-python",
   "name": "python",
   "nbconvert_exporter": "python",
   "pygments_lexer": "ipython3",
   "version": "3.9.7"
  }
 },
 "nbformat": 4,
 "nbformat_minor": 1
}
